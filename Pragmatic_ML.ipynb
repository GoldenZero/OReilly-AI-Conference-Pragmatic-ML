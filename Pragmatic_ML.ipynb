{
  "nbformat": 4,
  "nbformat_minor": 0,
  "metadata": {
    "colab": {
      "name": "Pragmatic ML.ipynb",
      "version": "0.3.2",
      "provenance": [],
      "collapsed_sections": [],
      "toc_visible": true,
      "include_colab_link": true
    },
    "kernelspec": {
      "name": "python3",
      "display_name": "Python 3"
    }
  },
  "cells": [
    {
      "cell_type": "markdown",
      "metadata": {
        "id": "view-in-github",
        "colab_type": "text"
      },
      "source": [
        "[View in Colaboratory](https://colab.research.google.com/github/ZackAkil/OReilly-AI-Conference-Pragmatic-ML/blob/master/Pragmatic_ML.ipynb)"
      ]
    },
    {
      "metadata": {
        "id": "g-aRTTEZhfrv",
        "colab_type": "text"
      },
      "cell_type": "markdown",
      "source": [
        "# Pragmatic ML Development\n",
        "\n"
      ]
    },
    {
      "metadata": {
        "id": "OR1VZyg9mqWY",
        "colab_type": "text"
      },
      "cell_type": "markdown",
      "source": [
        "## download data stored on cloud storage\n"
      ]
    },
    {
      "metadata": {
        "id": "JTuyuHb1jwUL",
        "colab_type": "code",
        "colab": {
          "base_uri": "https://localhost:8080/",
          "height": 67
        },
        "outputId": "ee09697e-8dde-4725-86f4-7d201c776f5f"
      },
      "cell_type": "code",
      "source": [
        "!gsutil cp gs://random-datasets/not_iris.joblib\t."
      ],
      "execution_count": 17,
      "outputs": [
        {
          "output_type": "stream",
          "text": [
            "Copying gs://random-datasets/not_iris.joblib...\n",
            "/ [1 files][  9.0 KiB/  9.0 KiB]                                                \n",
            "Operation completed over 1 objects/9.0 KiB.                                      \n"
          ],
          "name": "stdout"
        }
      ]
    },
    {
      "metadata": {
        "id": "vUYHQJCUlIHt",
        "colab_type": "code",
        "colab": {}
      },
      "cell_type": "code",
      "source": [
        "from sklearn.externals import joblib "
      ],
      "execution_count": 0,
      "outputs": []
    },
    {
      "metadata": {
        "id": "6bBSDM_qlM6Z",
        "colab_type": "code",
        "colab": {}
      },
      "cell_type": "code",
      "source": [
        "not_iris_data = joblib.load('not_iris.joblib')\n",
        "\n",
        "x = not_iris_data.data\n",
        "y = not_iris_data.target"
      ],
      "execution_count": 0,
      "outputs": []
    },
    {
      "metadata": {
        "id": "ARhe_KA9lQbw",
        "colab_type": "code",
        "colab": {
          "base_uri": "https://localhost:8080/",
          "height": 34
        },
        "outputId": "c7902bab-ab12-4e77-fb59-115ad546c754"
      },
      "cell_type": "code",
      "source": [
        "not_iris_data.target_names"
      ],
      "execution_count": 20,
      "outputs": [
        {
          "output_type": "execute_result",
          "data": {
            "text/plain": [
              "['not virginica', 'not setosa', 'not versicolor']"
            ]
          },
          "metadata": {
            "tags": []
          },
          "execution_count": 20
        }
      ]
    },
    {
      "metadata": {
        "id": "t6arEVOLE-Om",
        "colab_type": "code",
        "colab": {
          "base_uri": "https://localhost:8080/",
          "height": 84
        },
        "outputId": "a342fd98-91b0-4f88-85c0-1847fba13240"
      },
      "cell_type": "code",
      "source": [
        "not_iris_data.feature_names"
      ],
      "execution_count": 60,
      "outputs": [
        {
          "output_type": "execute_result",
          "data": {
            "text/plain": [
              "['sepal length (cm)',\n",
              " 'sepal width (cm)',\n",
              " 'petal length (cm)',\n",
              " 'petal width (cm)']"
            ]
          },
          "metadata": {
            "tags": []
          },
          "execution_count": 60
        }
      ]
    },
    {
      "metadata": {
        "id": "pxFqqfQUnlHT",
        "colab_type": "text"
      },
      "cell_type": "markdown",
      "source": [
        "# build heuristic model\n",
        "Think of the simplest possible model for your problem and code it up, this will act as the first model to beat using machine learning (if you still need to use machine learning)."
      ]
    },
    {
      "metadata": {
        "id": "eNWU9CVXlTl1",
        "colab_type": "code",
        "colab": {}
      },
      "cell_type": "code",
      "source": [
        "import matplotlib.pyplot as plt"
      ],
      "execution_count": 0,
      "outputs": []
    },
    {
      "metadata": {
        "id": "nhj_gjHzn6fz",
        "colab_type": "code",
        "colab": {
          "base_uri": "https://localhost:8080/",
          "height": 351
        },
        "outputId": "eeda895b-5643-4270-8db6-156f71ec74f0"
      },
      "cell_type": "code",
      "source": [
        "plt.scatter(range(len(x)), x[:,0], c=y, cmap='cool')\n",
        "plt.colorbar()\n",
        "plt.show()"
      ],
      "execution_count": 22,
      "outputs": [
        {
          "output_type": "display_data",
          "data": {
            "image/png": "[encoded data removed]",
            "text/plain": [
              "<matplotlib.figure.Figure at 0x7fa2f2e125f8>"
            ]
          },
          "metadata": {
            "tags": []
          }
        }
      ]
    },
    {
      "metadata": {
        "id": "5IlwNijRn1ub",
        "colab_type": "code",
        "colab": {
          "base_uri": "https://localhost:8080/",
          "height": 351
        },
        "outputId": "c857b639-f86f-41f3-9ac1-a9c42eb33514"
      },
      "cell_type": "code",
      "source": [
        "def heuristic_predict(flower_data):\n",
        "  if flower_data[0] < 5.5:\n",
        "    return 0\n",
        "  elif flower_data[0] < 6.5:\n",
        "    return 1\n",
        "  else:\n",
        "    return 2\n",
        "  \n",
        "def heuristic_predict_many(flower_datas):\n",
        "  return [heuristic_predict(flower_data) for flower_data in flower_datas]\n",
        "  \n",
        "  \n",
        "heuristic_predictions = heuristic_predict_many(x)\n",
        "\n",
        "plt.scatter(range(len(x)), x[:,0], c=heuristic_predictions, cmap='cool')\n",
        "plt.colorbar()\n",
        "plt.show()"
      ],
      "execution_count": 23,
      "outputs": [
        {
          "output_type": "display_data",
          "data": {
            "image/png": "[encoded data removed]",
            "text/plain": [
              "<matplotlib.figure.Figure at 0x7fa2f2e120b8>"
            ]
          },
          "metadata": {
            "tags": []
          }
        }
      ]
    },
    {
      "metadata": {
        "id": "d3JYaF1frJ4n",
        "colab_type": "text"
      },
      "cell_type": "markdown",
      "source": [
        "# productionise the heuristic model with Cloud Functions"
      ]
    },
    {
      "metadata": {
        "id": "UyEnlqUQe3HX",
        "colab_type": "text"
      },
      "cell_type": "markdown",
      "source": [
        "![alt text](https://github.com/ZackAkil/OReilly-AI-Conference-Pragmatic-ML/raw/master/cloud_function.png)"
      ]
    },
    {
      "metadata": {
        "id": "jgY2YjjhrPDI",
        "colab_type": "code",
        "colab": {}
      },
      "cell_type": "code",
      "source": [
        "import requests"
      ],
      "execution_count": 0,
      "outputs": []
    },
    {
      "metadata": {
        "id": "7wrqp42_sw4O",
        "colab_type": "code",
        "colab": {}
      },
      "cell_type": "code",
      "source": [
        "function_url = \"https://us-central1-oreilly-ai-conf-demo-za.cloudfunctions.net/heuristic-not-iris-predict\""
      ],
      "execution_count": 0,
      "outputs": []
    },
    {
      "metadata": {
        "id": "r9KpBV1ms5x8",
        "colab_type": "code",
        "colab": {
          "base_uri": "https://localhost:8080/",
          "height": 34
        },
        "outputId": "ef0b4b5d-13b0-4ad7-875e-461fa74bc67c"
      },
      "cell_type": "code",
      "source": [
        "req = requests.post(function_url, json={'instances':[[6, 3.1, 4.1, 0]]})\n",
        "req.json()"
      ],
      "execution_count": 26,
      "outputs": [
        {
          "output_type": "execute_result",
          "data": {
            "text/plain": [
              "{'predictions': [1]}"
            ]
          },
          "metadata": {
            "tags": []
          },
          "execution_count": 26
        }
      ]
    },
    {
      "metadata": {
        "id": "pYCkI2BPt0Ig",
        "colab_type": "text"
      },
      "cell_type": "markdown",
      "source": [
        "# build first ml model"
      ]
    },
    {
      "metadata": {
        "id": "yqlJQlO0t1tv",
        "colab_type": "code",
        "colab": {}
      },
      "cell_type": "code",
      "source": [
        "from sklearn.tree import DecisionTreeClassifier\n",
        "from sklearn.model_selection import train_test_split"
      ],
      "execution_count": 0,
      "outputs": []
    },
    {
      "metadata": {
        "id": "jpLD53Cxt5Cr",
        "colab_type": "code",
        "colab": {}
      },
      "cell_type": "code",
      "source": [
        "X_train, X_test, y_train, y_test = train_test_split(\n",
        "    x, y, test_size=0.33, random_state=42)"
      ],
      "execution_count": 0,
      "outputs": []
    },
    {
      "metadata": {
        "id": "7-VNH3KduAaJ",
        "colab_type": "code",
        "colab": {
          "base_uri": "https://localhost:8080/",
          "height": 118
        },
        "outputId": "b32ae5e3-ce1f-4f3e-de43-5dc42cbbdc0c"
      },
      "cell_type": "code",
      "source": [
        "tree = DecisionTreeClassifier()\n",
        "tree.fit(X_train, y_train)"
      ],
      "execution_count": 29,
      "outputs": [
        {
          "output_type": "execute_result",
          "data": {
            "text/plain": [
              "DecisionTreeClassifier(class_weight=None, criterion='gini', max_depth=None,\n",
              "            max_features=None, max_leaf_nodes=None,\n",
              "            min_impurity_decrease=0.0, min_impurity_split=None,\n",
              "            min_samples_leaf=1, min_samples_split=2,\n",
              "            min_weight_fraction_leaf=0.0, presort=False, random_state=None,\n",
              "            splitter='best')"
            ]
          },
          "metadata": {
            "tags": []
          },
          "execution_count": 29
        }
      ]
    },
    {
      "metadata": {
        "id": "Q-kptVKduF-5",
        "colab_type": "code",
        "colab": {
          "base_uri": "https://localhost:8080/",
          "height": 34
        },
        "outputId": "406070d7-001c-4bb4-a068-ac0f4a208422"
      },
      "cell_type": "code",
      "source": [
        "tree.score(X_test, y_test)"
      ],
      "execution_count": 30,
      "outputs": [
        {
          "output_type": "execute_result",
          "data": {
            "text/plain": [
              "0.98"
            ]
          },
          "metadata": {
            "tags": []
          },
          "execution_count": 30
        }
      ]
    },
    {
      "metadata": {
        "id": "aOn0InEsvbdJ",
        "colab_type": "text"
      },
      "cell_type": "markdown",
      "source": [
        "# Compare heuristic vs first ML model"
      ]
    },
    {
      "metadata": {
        "id": "PkRcbXm4uOQ2",
        "colab_type": "code",
        "colab": {}
      },
      "cell_type": "code",
      "source": [
        "from sklearn.metrics import accuracy_score"
      ],
      "execution_count": 0,
      "outputs": []
    },
    {
      "metadata": {
        "id": "0cKHb2__urII",
        "colab_type": "code",
        "colab": {
          "base_uri": "https://localhost:8080/",
          "height": 34
        },
        "outputId": "e02d9900-7f2f-4cc4-c606-58bfe0db4f86"
      },
      "cell_type": "code",
      "source": [
        "accuracy_score(tree.predict(X_test), y_test)"
      ],
      "execution_count": 32,
      "outputs": [
        {
          "output_type": "execute_result",
          "data": {
            "text/plain": [
              "0.98"
            ]
          },
          "metadata": {
            "tags": []
          },
          "execution_count": 32
        }
      ]
    },
    {
      "metadata": {
        "id": "iqYDDv-LuvJY",
        "colab_type": "code",
        "colab": {
          "base_uri": "https://localhost:8080/",
          "height": 34
        },
        "outputId": "5219d9bf-2fa0-4c72-c289-c986622c8db1"
      },
      "cell_type": "code",
      "source": [
        "accuracy_score(heuristic_predict_many(X_test), y_test)"
      ],
      "execution_count": 33,
      "outputs": [
        {
          "output_type": "execute_result",
          "data": {
            "text/plain": [
              "0.72"
            ]
          },
          "metadata": {
            "tags": []
          },
          "execution_count": 33
        }
      ]
    },
    {
      "metadata": {
        "id": "NPEB59nKvrf6",
        "colab_type": "text"
      },
      "cell_type": "markdown",
      "source": [
        "# productionise first ML model (scikit learn)"
      ]
    },
    {
      "metadata": {
        "id": "kdFHQMNxC4gb",
        "colab_type": "text"
      },
      "cell_type": "markdown",
      "source": [
        "## exporting model"
      ]
    },
    {
      "metadata": {
        "id": "Zb_HQ_evuzSa",
        "colab_type": "code",
        "colab": {}
      },
      "cell_type": "code",
      "source": [
        "from sklearn.externals import joblib "
      ],
      "execution_count": 0,
      "outputs": []
    },
    {
      "metadata": {
        "id": "nwGGRFoavuH8",
        "colab_type": "code",
        "colab": {
          "base_uri": "https://localhost:8080/",
          "height": 34
        },
        "outputId": "388c60ab-f128-44b6-e7b3-6d5215ec1aac"
      },
      "cell_type": "code",
      "source": [
        "joblib.dump(tree, 'model.joblib')"
      ],
      "execution_count": 35,
      "outputs": [
        {
          "output_type": "execute_result",
          "data": {
            "text/plain": [
              "['model.joblib']"
            ]
          },
          "metadata": {
            "tags": []
          },
          "execution_count": 35
        }
      ]
    },
    {
      "metadata": {
        "id": "vv76bXSTEEQ6",
        "colab_type": "code",
        "colab": {}
      },
      "cell_type": "code",
      "source": [
        "# Authenticate to GCP\n",
        "from google.colab import auth\n",
        "auth.authenticate_user()"
      ],
      "execution_count": 0,
      "outputs": []
    },
    {
      "metadata": {
        "id": "VxuNHIDkvxxx",
        "colab_type": "code",
        "colab": {
          "base_uri": "https://localhost:8080/",
          "height": 69
        },
        "outputId": "609d92fd-4fd1-4102-d2b1-c3e3ff64759a"
      },
      "cell_type": "code",
      "source": [
        "# slick way of getting the model into cloud stroage\n",
        "\n",
        "!gsutil cp model.joblib gs://ai-sklearn-models/tree/model.joblib"
      ],
      "execution_count": 22,
      "outputs": [
        {
          "output_type": "stream",
          "text": [
            "Copying file://model.joblib [Content-Type=application/octet-stream]...\n",
            "/ [1 files][  2.8 KiB/  2.8 KiB]                                                \n",
            "Operation completed over 1 objects/2.8 KiB.                                      \n"
          ],
          "name": "stdout"
        }
      ]
    },
    {
      "metadata": {
        "id": "mctxIyMtC988",
        "colab_type": "text"
      },
      "cell_type": "markdown",
      "source": [
        "## calling model from ml-engine (from cloud function)\n",
        "Check out [this blog post](https://cloud.google.com/blog/products/ai-machine-learning/simplifying-ml-predictions-with-google-cloud-functions) on how that cloud function works"
      ]
    },
    {
      "metadata": {
        "id": "9SwVGhE1wUeD",
        "colab_type": "code",
        "colab": {}
      },
      "cell_type": "code",
      "source": [
        "ml_engine_url = 'https://us-central1-oreilly-ai-conf-demo-za.cloudfunctions.net/ml-engine-predict'"
      ],
      "execution_count": 0,
      "outputs": []
    },
    {
      "metadata": {
        "id": "-1wke6FHx5Ia",
        "colab_type": "code",
        "colab": {
          "base_uri": "https://localhost:8080/",
          "height": 34
        },
        "outputId": "08c4b27d-04a1-4eb2-d77a-d7043f3daff1"
      },
      "cell_type": "code",
      "source": [
        "req = requests.post(ml_engine_url, json={'instances':[[0,2,0,0]], 'model':'not_iris'})\n",
        "req.json()"
      ],
      "execution_count": 37,
      "outputs": [
        {
          "output_type": "execute_result",
          "data": {
            "text/plain": [
              "{'predictions': [0]}"
            ]
          },
          "metadata": {
            "tags": []
          },
          "execution_count": 37
        }
      ]
    },
    {
      "metadata": {
        "id": "-VTCjdX3yW1U",
        "colab_type": "text"
      },
      "cell_type": "markdown",
      "source": [
        "# build more complex ML model (tensorflow)"
      ]
    },
    {
      "metadata": {
        "id": "SuRIJGLgyAYv",
        "colab_type": "code",
        "colab": {}
      },
      "cell_type": "code",
      "source": [
        "import tensorflow as tf\n",
        "import numpy as np"
      ],
      "execution_count": 0,
      "outputs": []
    },
    {
      "metadata": {
        "id": "wsvewnoLyyTG",
        "colab_type": "code",
        "colab": {}
      },
      "cell_type": "code",
      "source": [
        "# def serving_input_receiver_fn():\n",
        "  \n",
        "#     inputs = {\n",
        "#       input_layer_name: tf.placeholder(tf.float32, [None, 4]),\n",
        "#     }\n",
        "#     return tf.estimator.export.ServingInputReceiver(inputs, inputs)"
      ],
      "execution_count": 0,
      "outputs": []
    },
    {
      "metadata": {
        "id": "Z2mXUpkn1lQy",
        "colab_type": "code",
        "colab": {
          "base_uri": "https://localhost:8080/",
          "height": 188
        },
        "outputId": "1c45cadc-aaef-4619-b181-4125c5793ee1"
      },
      "cell_type": "code",
      "source": [
        "my_feature_columns = [tf.feature_column.numeric_column('flower_features', shape=[4])]\n",
        "\n",
        "classifier = tf.estimator.DNNClassifier(\n",
        "        feature_columns=my_feature_columns,\n",
        "        # Two hidden layers of 10 nodes each.\n",
        "        hidden_units=[10, 10],\n",
        "        # The model must choose between 3 classes.\n",
        "        n_classes=3)"
      ],
      "execution_count": 64,
      "outputs": [
        {
          "output_type": "stream",
          "text": [
            "INFO:tensorflow:Using default config.\n",
            "WARNING:tensorflow:Using temporary folder as model directory: /tmp/tmp06193gxe\n",
            "INFO:tensorflow:Using config: {'_model_dir': '/tmp/tmp06193gxe', '_tf_random_seed': None, '_save_summary_steps': 100, '_save_checkpoints_steps': None, '_save_checkpoints_secs': 600, '_session_config': allow_soft_placement: true\n",
            "graph_options {\n",
            "  rewrite_options {\n",
            "    meta_optimizer_iterations: ONE\n",
            "  }\n",
            "}\n",
            ", '_keep_checkpoint_max': 5, '_keep_checkpoint_every_n_hours': 10000, '_log_step_count_steps': 100, '_train_distribute': None, '_device_fn': None, '_protocol': None, '_eval_distribute': None, '_experimental_distribute': None, '_service': None, '_cluster_spec': <tensorflow.python.training.server_lib.ClusterSpec object at 0x7fa2ea699b38>, '_task_type': 'worker', '_task_id': 0, '_global_id_in_cluster': 0, '_master': '', '_evaluation_master': '', '_is_chief': True, '_num_ps_replicas': 0, '_num_worker_replicas': 1}\n"
          ],
          "name": "stdout"
        }
      ]
    },
    {
      "metadata": {
        "id": "TgHE8HRv19aW",
        "colab_type": "code",
        "colab": {}
      },
      "cell_type": "code",
      "source": [
        "def input_fn():\n",
        "    def _fn():\n",
        "        features = {'flower_features': tf.constant(X_train)}\n",
        "        label = tf.constant(y_train)\n",
        "        return features, label\n",
        "    return _fn"
      ],
      "execution_count": 0,
      "outputs": []
    },
    {
      "metadata": {
        "id": "hg0v5Z9j4ahn",
        "colab_type": "code",
        "colab": {
          "base_uri": "https://localhost:8080/",
          "height": 504
        },
        "outputId": "15ca1a1d-4d61-469f-bf6c-ddb4d7e94804"
      },
      "cell_type": "code",
      "source": [
        "classifier.train(input_fn=input_fn(), steps=1000)"
      ],
      "execution_count": 66,
      "outputs": [
        {
          "output_type": "stream",
          "text": [
            "INFO:tensorflow:Calling model_fn.\n",
            "INFO:tensorflow:Done calling model_fn.\n",
            "INFO:tensorflow:Create CheckpointSaverHook.\n",
            "INFO:tensorflow:Graph was finalized.\n",
            "INFO:tensorflow:Running local_init_op.\n",
            "INFO:tensorflow:Done running local_init_op.\n",
            "INFO:tensorflow:Saving checkpoints for 0 into /tmp/tmp06193gxe/model.ckpt.\n",
            "INFO:tensorflow:loss = 119.287994, step = 1\n",
            "INFO:tensorflow:global_step/sec: 920.138\n",
            "INFO:tensorflow:loss = 13.776446, step = 101 (0.110 sec)\n",
            "INFO:tensorflow:global_step/sec: 1298.84\n",
            "INFO:tensorflow:loss = 8.034527, step = 201 (0.081 sec)\n",
            "INFO:tensorflow:global_step/sec: 1185.56\n",
            "INFO:tensorflow:loss = 6.576059, step = 301 (0.084 sec)\n",
            "INFO:tensorflow:global_step/sec: 1232.52\n",
            "INFO:tensorflow:loss = 5.9631453, step = 401 (0.079 sec)\n",
            "INFO:tensorflow:global_step/sec: 1241.76\n",
            "INFO:tensorflow:loss = 5.724994, step = 501 (0.080 sec)\n",
            "INFO:tensorflow:global_step/sec: 1305.07\n",
            "INFO:tensorflow:loss = 5.345947, step = 601 (0.076 sec)\n",
            "INFO:tensorflow:global_step/sec: 1258.77\n",
            "INFO:tensorflow:loss = 5.0728526, step = 701 (0.081 sec)\n",
            "INFO:tensorflow:global_step/sec: 1269.5\n",
            "INFO:tensorflow:loss = 4.6327467, step = 801 (0.078 sec)\n",
            "INFO:tensorflow:global_step/sec: 1268.11\n",
            "INFO:tensorflow:loss = 4.406406, step = 901 (0.079 sec)\n",
            "INFO:tensorflow:Saving checkpoints for 1000 into /tmp/tmp06193gxe/model.ckpt.\n",
            "INFO:tensorflow:Loss for final step: 4.181704.\n"
          ],
          "name": "stdout"
        },
        {
          "output_type": "execute_result",
          "data": {
            "text/plain": [
              "<tensorflow.python.estimator.canned.dnn.DNNClassifier at 0x7fa2ea6999e8>"
            ]
          },
          "metadata": {
            "tags": []
          },
          "execution_count": 66
        }
      ]
    },
    {
      "metadata": {
        "id": "WbXrf76h4iFJ",
        "colab_type": "code",
        "colab": {
          "base_uri": "https://localhost:8080/",
          "height": 370
        },
        "outputId": "2026bf30-8218-4585-a4c1-490444c2133d"
      },
      "cell_type": "code",
      "source": [
        "classifier.evaluate(input_fn=input_fn(), steps=100)[\"accuracy\"] "
      ],
      "execution_count": 67,
      "outputs": [
        {
          "output_type": "stream",
          "text": [
            "INFO:tensorflow:Calling model_fn.\n",
            "INFO:tensorflow:Done calling model_fn.\n",
            "INFO:tensorflow:Starting evaluation at 2018-10-09-13:50:49\n",
            "INFO:tensorflow:Graph was finalized.\n",
            "INFO:tensorflow:Restoring parameters from /tmp/tmp06193gxe/model.ckpt-1000\n",
            "INFO:tensorflow:Running local_init_op.\n",
            "INFO:tensorflow:Done running local_init_op.\n",
            "INFO:tensorflow:Evaluation [10/100]\n",
            "INFO:tensorflow:Evaluation [20/100]\n",
            "INFO:tensorflow:Evaluation [30/100]\n",
            "INFO:tensorflow:Evaluation [40/100]\n",
            "INFO:tensorflow:Evaluation [50/100]\n",
            "INFO:tensorflow:Evaluation [60/100]\n",
            "INFO:tensorflow:Evaluation [70/100]\n",
            "INFO:tensorflow:Evaluation [80/100]\n",
            "INFO:tensorflow:Evaluation [90/100]\n",
            "INFO:tensorflow:Evaluation [100/100]\n",
            "INFO:tensorflow:Finished evaluation at 2018-10-09-13:50:49\n",
            "INFO:tensorflow:Saving dict for global step 1000: accuracy = 0.99, average_loss = 0.041496295, global_step = 1000, loss = 4.1496296\n",
            "INFO:tensorflow:Saving 'checkpoint_path' summary for global step 1000: /tmp/tmp06193gxe/model.ckpt-1000\n"
          ],
          "name": "stdout"
        },
        {
          "output_type": "execute_result",
          "data": {
            "text/plain": [
              "0.99"
            ]
          },
          "metadata": {
            "tags": []
          },
          "execution_count": 67
        }
      ]
    },
    {
      "metadata": {
        "id": "wgt7jTbB4xr6",
        "colab_type": "code",
        "colab": {}
      },
      "cell_type": "code",
      "source": [
        "# feature_spec = {'flower_features': tf.FixedLenFeature(shape=[4], dtype=np.float32)}\n",
        "\n",
        "# serving_fn = tf.estimator.export.build_raw_serving_input_receiver_fn(feature_spec)"
      ],
      "execution_count": 0,
      "outputs": []
    },
    {
      "metadata": {
        "id": "acr0WQhy47M-",
        "colab_type": "code",
        "colab": {}
      },
      "cell_type": "code",
      "source": [
        "def serving_input_receiver_fn():\n",
        "    inputs = {\n",
        "      'flower_features': tf.placeholder(tf.float32, [None, 4]),\n",
        "    }\n",
        "    return tf.estimator.export.ServingInputReceiver(inputs, inputs)"
      ],
      "execution_count": 0,
      "outputs": []
    },
    {
      "metadata": {
        "id": "WPlArRUP5B5_",
        "colab_type": "code",
        "colab": {
          "base_uri": "https://localhost:8080/",
          "height": 306
        },
        "outputId": "59d31d41-9058-4e94-a9b6-6f4b82f081f8"
      },
      "cell_type": "code",
      "source": [
        "classifier.export_savedmodel(export_dir_base='/tmp/not_iris_model' + '/export', \n",
        "                            serving_input_receiver_fn=serving_input_receiver_fn)"
      ],
      "execution_count": 70,
      "outputs": [
        {
          "output_type": "stream",
          "text": [
            "INFO:tensorflow:Calling model_fn.\n",
            "INFO:tensorflow:Done calling model_fn.\n",
            "INFO:tensorflow:Signatures INCLUDED in export for Classify: None\n",
            "INFO:tensorflow:Signatures INCLUDED in export for Regress: None\n",
            "INFO:tensorflow:Signatures INCLUDED in export for Predict: ['predict']\n",
            "INFO:tensorflow:Signatures INCLUDED in export for Train: None\n",
            "INFO:tensorflow:Signatures INCLUDED in export for Eval: None\n",
            "INFO:tensorflow:Signatures EXCLUDED from export because they cannot be be served via TensorFlow Serving APIs:\n",
            "INFO:tensorflow:'serving_default' : Classification input must be a single string Tensor; got {'flower_features': <tf.Tensor 'Placeholder:0' shape=(?, 4) dtype=float32>}\n",
            "INFO:tensorflow:'classification' : Classification input must be a single string Tensor; got {'flower_features': <tf.Tensor 'Placeholder:0' shape=(?, 4) dtype=float32>}\n",
            "WARNING:tensorflow:Export includes no default signature!\n",
            "INFO:tensorflow:Restoring parameters from /tmp/tmp06193gxe/model.ckpt-1000\n",
            "INFO:tensorflow:Assets added to graph.\n",
            "INFO:tensorflow:No assets to write.\n",
            "INFO:tensorflow:SavedModel written to: /tmp/not_iris_model/export/temp-b'1539093055'/saved_model.pb\n"
          ],
          "name": "stdout"
        },
        {
          "output_type": "execute_result",
          "data": {
            "text/plain": [
              "b'/tmp/not_iris_model/export/1539093055'"
            ]
          },
          "metadata": {
            "tags": []
          },
          "execution_count": 70
        }
      ]
    },
    {
      "metadata": {
        "id": "2efkJUrG5GzR",
        "colab_type": "code",
        "colab": {
          "base_uri": "https://localhost:8080/",
          "height": 34
        },
        "outputId": "f4c93764-8c94-4f05-ea69-0c92d3187c16"
      },
      "cell_type": "code",
      "source": [
        "!ls /tmp/not_iris_model/export/1539093055"
      ],
      "execution_count": 71,
      "outputs": [
        {
          "output_type": "stream",
          "text": [
            "saved_model.pb\tvariables\n"
          ],
          "name": "stdout"
        }
      ]
    },
    {
      "metadata": {
        "id": "yqYjrBhb5l1I",
        "colab_type": "code",
        "colab": {
          "base_uri": "https://localhost:8080/",
          "height": 101
        },
        "outputId": "489494e7-ce82-4e1d-eb6d-4b293a03ce48"
      },
      "cell_type": "code",
      "source": [
        "!gsutil cp -r /tmp/not_iris_model/export/1539093055 gs://ai-tf-models/tf-estimator"
      ],
      "execution_count": 72,
      "outputs": [
        {
          "output_type": "stream",
          "text": [
            "Copying file:///tmp/not_iris_model/export/1539093055/saved_model.pb [Content-Type=application/octet-stream]...\n",
            "Copying file:///tmp/not_iris_model/export/1539093055/variables/variables.index [Content-Type=application/octet-stream]...\n",
            "Copying file:///tmp/not_iris_model/export/1539093055/variables/variables.data-00000-of-00001 [Content-Type=application/octet-stream]...\n",
            "- [3 files][ 32.3 KiB/ 32.3 KiB]                                                \n",
            "Operation completed over 3 objects/32.3 KiB.                                     \n"
          ],
          "name": "stdout"
        }
      ]
    },
    {
      "metadata": {
        "id": "_G-geon5Eau3",
        "colab_type": "text"
      },
      "cell_type": "markdown",
      "source": [
        "## Call tensorflow model from ml-engine (from cloud function)\n",
        "Check out [this blog post](https://cloud.google.com/blog/products/ai-machine-learning/simplifying-ml-predictions-with-google-cloud-functions)  on how that cloud function works"
      ]
    },
    {
      "metadata": {
        "id": "l5A5hBYs6o8d",
        "colab_type": "code",
        "colab": {
          "base_uri": "https://localhost:8080/",
          "height": 118
        },
        "outputId": "ce460414-f63a-4138-90d5-6a9533f3fe71"
      },
      "cell_type": "code",
      "source": [
        "tf_engine_url = 'https://us-central1-oreilly-ai-conf-demo-za.cloudfunctions.net/ml-engine-predict'\n",
        "\n",
        "req = requests.post(ml_engine_url, json={'instances':[[5,2,0,5]], \n",
        "                                         'model':'not_iris/versions/v3'})\n",
        "req.json()"
      ],
      "execution_count": 56,
      "outputs": [
        {
          "output_type": "execute_result",
          "data": {
            "text/plain": [
              "{'predictions': [{'class_ids': [1],\n",
              "   'classes': ['1'],\n",
              "   'logits': [-6.27042818069458, 2.826831340789795, -0.4603240489959717],\n",
              "   'probabilities': [0.00010792798275360838,\n",
              "    0.9638815522193909,\n",
              "    0.036010585725307465]}]}"
            ]
          },
          "metadata": {
            "tags": []
          },
          "execution_count": 56
        }
      ]
    },
    {
      "metadata": {
        "id": "JLpP987OA_yr",
        "colab_type": "text"
      },
      "cell_type": "markdown",
      "source": [
        "# Putting it into an app"
      ]
    },
    {
      "metadata": {
        "id": "nPa46uIa66x5",
        "colab_type": "code",
        "colab": {}
      },
      "cell_type": "code",
      "source": [
        "from IPython.core.display import display, HTML"
      ],
      "execution_count": 0,
      "outputs": []
    },
    {
      "metadata": {
        "id": "3HqHyaibA5I-",
        "colab_type": "code",
        "colab": {
          "base_uri": "https://localhost:8080/",
          "height": 638
        },
        "cellView": "form",
        "outputId": "81b81846-3d3f-4e0f-cac1-87e35750ae7a"
      },
      "cell_type": "code",
      "source": [
        "#@title Inline HTML app { run: \"auto\" }\n",
        "api_url = \"https://us-central1-oreilly-ai-conf-demo-za.cloudfunctions.net/ml-engine-predict\" #@param {type:\"string\"}\n",
        "model_name = \"not_iris/versions/ten\" #@param {type:\"string\"}\n",
        "\n",
        "\n",
        "\n",
        "\n",
        "\n",
        "display(HTML('''\n",
        "\n",
        "\n",
        "<form action=\"/action_page.php\">\n",
        "\n",
        "  <div>\n",
        "  Sepal Length:<span>2</span><br>\n",
        "  <input type=\"range\" name=\"sepal-length\" \n",
        "           min=\"0\" max=\"10\" value=\"2\" step=\"0.1\" />\n",
        "  </div>\n",
        "  <br>\n",
        "  <div>\n",
        "  Sepal Width:<span>2</span><br>\n",
        "  <input type=\"range\" name=\"sepal-width\" \n",
        "           min=\"0\" max=\"10\" value=\"2\" step=\"0.1\" />\n",
        "  </div>\n",
        "  <br>\n",
        "  <div>\n",
        "   Petal Length:<span>2</span><br>\n",
        "  <input type=\"range\" name=\"petal-length\" \n",
        "           min=\"0\" max=\"10\" value=\"2\" step=\"0.1\" />\n",
        "  </div>\n",
        "  <br>\n",
        "  <div>\n",
        "   Petal Width:<span>2</span><br>\n",
        "  <input type=\"range\" name=\"petal-width\" \n",
        "           min=\"0\" max=\"10\" value=\"2\" step=\"0.1\"/>\n",
        "  </div>\n",
        "  <br>\n",
        "</form>\n",
        "\n",
        "<input id=\"submit\" type=\"submit\" value=\"Submit\">\n",
        "<br>\n",
        "<br>\n",
        "<pre>\n",
        "<code id=\"pred\">\n",
        "</code>\n",
        "</pre>\n",
        "\n",
        "\n",
        "<script src=\"https://ajax.googleapis.com/ajax/libs/jquery/1.8.2/jquery.min.js\"></script>\n",
        "\n",
        "\n",
        "<script type=\"text/javascript\">\n",
        "\n",
        "$(document).on(\"input\", \"input[type=range]\", function(){\n",
        "     $(this).siblings(\"span\").text($(this).val())\n",
        "});\n",
        "\n",
        "\n",
        "\n",
        "const api_url = \"'''+api_url+'''\"\n",
        "\n",
        "$(\"#submit\").click(function () {\n",
        "               \n",
        "               var inputs = []\n",
        "               $(\"input[type=range]\").each(function(){\n",
        "                inputs.push(parseInt($(this).val()))\n",
        "               \n",
        "               });\n",
        "\n",
        "               $.ajax({\n",
        "                    type: \"POST\",\n",
        "                    url: api_url,\n",
        "                    data: JSON.stringify({\n",
        "                        \"instances\": [inputs],\n",
        "                        \"model\":\"'''+model_name+'''\"\n",
        "                    }),\n",
        "\n",
        "                    contentType: \"application/json; charset=utf-8\",\n",
        "                    dataType: \"json\",\n",
        "                    success: function (data) {\n",
        "                    var pred = JSON.stringify(data, null, 2)\n",
        "                    console.log(pred);\n",
        "                    $(\"#pred\").text(pred)\n",
        "                    },   \n",
        "                    beforeSend: function () {\n",
        "                        $(\"#pred\").text(\"\")\n",
        "                    }\n",
        "\n",
        "                });\n",
        "\n",
        "});\n",
        "\n",
        "</script>\n",
        "\n",
        "\n",
        "'''))"
      ],
      "execution_count": 74,
      "outputs": [
        {
          "output_type": "display_data",
          "data": {
            "text/html": [
              "\n",
              "\n",
              "\n",
              "<form action=\"/action_page.php\">\n",
              "\n",
              "  <div>\n",
              "  Sepal Length:<span>2</span><br>\n",
              "  <input type=\"range\" name=\"sepal-length\" \n",
              "           min=\"0\" max=\"10\" value=\"2\" step=\"0.1\" />\n",
              "  </div>\n",
              "  <br>\n",
              "  <div>\n",
              "  Sepal Width:<span>2</span><br>\n",
              "  <input type=\"range\" name=\"sepal-width\" \n",
              "           min=\"0\" max=\"10\" value=\"2\" step=\"0.1\" />\n",
              "  </div>\n",
              "  <br>\n",
              "  <div>\n",
              "   Petal Length:<span>2</span><br>\n",
              "  <input type=\"range\" name=\"petal-length\" \n",
              "           min=\"0\" max=\"10\" value=\"2\" step=\"0.1\" />\n",
              "  </div>\n",
              "  <br>\n",
              "  <div>\n",
              "   Petal Width:<span>2</span><br>\n",
              "  <input type=\"range\" name=\"petal-width\" \n",
              "           min=\"0\" max=\"10\" value=\"2\" step=\"0.1\"/>\n",
              "  </div>\n",
              "  <br>\n",
              "</form>\n",
              "\n",
              "<input id=\"submit\" type=\"submit\" value=\"Submit\">\n",
              "<br>\n",
              "<br>\n",
              "<pre>\n",
              "<code id=\"pred\">\n",
              "</code>\n",
              "</pre>\n",
              "\n",
              "\n",
              "<script src=\"https://ajax.googleapis.com/ajax/libs/jquery/1.8.2/jquery.min.js\"></script>\n",
              "\n",
              "\n",
              "<script type=\"text/javascript\">\n",
              "\n",
              "$(document).on(\"input\", \"input[type=range]\", function(){\n",
              "     $(this).siblings(\"span\").text($(this).val())\n",
              "});\n",
              "\n",
              "\n",
              "\n",
              "const api_url = \"https://us-central1-oreilly-ai-conf-demo-za.cloudfunctions.net/ml-engine-predict\"\n",
              "\n",
              "$(\"#submit\").click(function () {\n",
              "               \n",
              "               var inputs = []\n",
              "               $(\"input[type=range]\").each(function(){\n",
              "                inputs.push(parseInt($(this).val()))\n",
              "               \n",
              "               });\n",
              "\n",
              "               $.ajax({\n",
              "                    type: \"POST\",\n",
              "                    url: api_url,\n",
              "                    data: JSON.stringify({\n",
              "                        \"instances\": [inputs],\n",
              "                        \"model\":\"not_iris/versions/ten\"\n",
              "                    }),\n",
              "\n",
              "                    contentType: \"application/json; charset=utf-8\",\n",
              "                    dataType: \"json\",\n",
              "                    success: function (data) {\n",
              "                    var pred = JSON.stringify(data, null, 2)\n",
              "                    console.log(pred);\n",
              "                    $(\"#pred\").text(pred)\n",
              "                    },   \n",
              "                    beforeSend: function () {\n",
              "                        $(\"#pred\").text(\"\")\n",
              "                    }\n",
              "\n",
              "                });\n",
              "\n",
              "});\n",
              "\n",
              "</script>\n",
              "\n",
              "\n"
            ],
            "text/plain": [
              "<IPython.core.display.HTML object>"
            ]
          },
          "metadata": {
            "tags": []
          }
        }
      ]
    },
    {
      "metadata": {
        "id": "a7R-T1tcA8dP",
        "colab_type": "code",
        "colab": {}
      },
      "cell_type": "code",
      "source": [
        ""
      ],
      "execution_count": 0,
      "outputs": []
    }
  ]
}